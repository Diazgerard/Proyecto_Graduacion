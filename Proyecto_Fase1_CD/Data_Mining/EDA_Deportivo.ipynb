{
 "cells": [
  {
   "cell_type": "markdown",
   "id": "373b258c",
   "metadata": {},
   "source": [
    "## ***Flujo del EDA en Python***"
   ]
  },
  {
   "cell_type": "markdown",
   "id": "5d3bee58",
   "metadata": {},
   "source": [
    "# Paso 1. Conexion y carga de la base de datos"
   ]
  },
  {
   "cell_type": "code",
   "execution_count": 4,
   "id": "555016bc",
   "metadata": {},
   "outputs": [],
   "source": [
    "# Configuración de la conexión a la base de datos\n",
    "\n",
    "HOST = \"localhost\"\n",
    "PORT = \"5432\"\n",
    "DATABSE = \"2. PremierLeague\"\n",
    "USER = \"admin\"\n",
    "PASSWORD = \"GadumUNITEC123\""
   ]
  },
  {
   "cell_type": "code",
   "execution_count": 19,
   "id": "fa8e1c44",
   "metadata": {},
   "outputs": [],
   "source": [
    "# Imports\n",
    "\n",
    "import os\n",
    "import warnings\n",
    "warnings.filterwarnings('ignore')\n",
    "\n",
    "import pandas as pd\n",
    "import numpy as np\n",
    "from sqlalchemy import create_engine\n",
    "import matplotlib.pyplot as plt\n",
    "import missingno as msno\n",
    "import psycopg2"
   ]
  },
  {
   "cell_type": "code",
   "execution_count": 6,
   "id": "8f35659c",
   "metadata": {},
   "outputs": [
    {
     "name": "stdout",
     "output_type": "stream",
     "text": [
      "Engine creado. Prueba de conexión\n",
      "Error al conectar a la base de datos: Not an executable object: 'SELECT 1'\n"
     ]
    }
   ],
   "source": [
    "# Conexion a la base de datos\n",
    "\n",
    "def get_engine(host, port, db, user, password):\n",
    "    url = f\"postgresql://{user}:{password}@{host}:{port}/{db}\"\n",
    "    engine = create_engine(url)\n",
    "    return engine\n",
    "\n",
    "engine = None\n",
    "try:\n",
    "    engine = get_engine(HOST, PORT, DATABSE, USER, PASSWORD)\n",
    "    print(\"Engine creado. Prueba de conexión\")\n",
    "    with engine.connect() as connection:\n",
    "        result = connection.execute(\"SELECT 1\")\n",
    "        print(\"Conexión exitosa:\", result.fetchone())\n",
    "except Exception as e:\n",
    "    print(\"Error al conectar a la base de datos:\", e)"
   ]
  },
  {
   "cell_type": "code",
   "execution_count": 9,
   "id": "dd48781d",
   "metadata": {},
   "outputs": [],
   "source": [
    "# Consultas a la base de datos\n",
    "\n",
    "q_team_season = \"\"\"\n",
    "SELECT \n",
    "id, season_id, team_id, team_name, matches_played, ttl_gls, ttl_xg, ttl_sho AS ttl_sh, ttl_sot, pct_sot, gls_per_sot, ttl_gls_xg_diff, ttl_gls_ag, \n",
    "ttl_saves, clean_sheets, avg_poss, ttl_pass_prog, ttl_key_passes, ttl_cross_opp_box, ttl_take_on_suc, ttl_carries, avg_age, ttl_yellow_cards, \n",
    "ttl_red_cards, ttl_offside\n",
    "FROM team_season_stats;\n",
    "\"\"\"\n",
    "\n",
    "q_team_match = \"\"\"\n",
    "SELECT\n",
    "id, match_id, season_id, team_id, team_name, home_away, ttl_gls, ttl_xg, ttl_sh AS ttl_sh, ttl_sot, pct_sot, ttl_gls_ag, ttl_saves, clean_sheets,\n",
    "avg_poss, ttl_pass_prog, ttl_key_passes, ttl_cross_opp_box, ttl_take_on_suc, ttl_carries, ttl_yellow_cards, ttl_red_cards\n",
    "FROM team_match_stats;\n",
    "\"\"\"\n",
    "\n",
    "q_matches = \"\"\"\n",
    "SELECT \n",
    "match_id, season_id, matchday, home_team, home_team_id, home_team_score, away_team, away_team_id, away_team_score, date_game\n",
    "FROM matches_registered;\n",
    "\"\"\"\n",
    "\n",
    "q_team_meta = \"SELECT team_id, team_name FROM team_meta;\"\n",
    "q_data_league = \"SELECT season_id, competition_name, squads_count, champion FROM data_league;\""
   ]
  },
  {
   "cell_type": "code",
   "execution_count": 10,
   "id": "cc2963ab",
   "metadata": {},
   "outputs": [
    {
     "name": "stdout",
     "output_type": "stream",
     "text": [
      "Tablas cargas:  [160, 6070, 3038, 32, 127]\n"
     ]
    }
   ],
   "source": [
    "# Carga de datos en DataFrames\n",
    "\n",
    "try: \n",
    "    df_season = pd.read_sql(q_team_season, engine)\n",
    "    df_match = pd.read_sql(q_team_match, engine)\n",
    "    df_matches_reg = pd.read_sql(q_matches, engine)\n",
    "    df_meta = pd.read_sql(q_team_meta, engine)\n",
    "    df_league = pd.read_sql(q_data_league, engine)\n",
    "    print(\"Tablas cargas: \", list(map(len, [df_season, df_match, df_matches_reg, df_meta, df_league])))\n",
    "except Exception as e:\n",
    "    print(\"No se pudieron cargar las tablas automaticamente. Error:\", e)\n",
    "    df_season = pd.DataFrame()\n",
    "    df_match = pd.DataFrame()\n",
    "    df_matches_reg = pd.DataFrame()\n",
    "    df_meta = pd.DataFrame()\n",
    "    df_league = pd.DataFrame()"
   ]
  },
  {
   "cell_type": "code",
   "execution_count": 11,
   "id": "beb351a5",
   "metadata": {},
   "outputs": [],
   "source": [
    "# Utilidades rapidas\n",
    "\n",
    "def show_head(df, name='df'):\n",
    "    print(f\"--- {name} HEAD (n={len(df)}) ---\")\n",
    "    display(df.head())\n",
    "\n",
    "def save_fig(fig, fname):\n",
    "    outdir = \"eda_outputs\"\n",
    "    os.makedirs(outdir, exist_ok=True)\n",
    "    path = os.path.join(outdir, fname)\n",
    "    fig.savefig(path, bbox_inches='tight', dpi = 150)\n",
    "    print(\"Guardado en: \", path)"
   ]
  },
  {
   "cell_type": "code",
   "execution_count": 13,
   "id": "2c9718c3",
   "metadata": {},
   "outputs": [
    {
     "name": "stdout",
     "output_type": "stream",
     "text": [
      "\n",
      " team_season_stats -> filas: 160 columnas: ['id', 'season_id', 'team_id', 'team_name', 'matches_played', 'ttl_gls', 'ttl_xg', 'ttl_sh', 'ttl_sot', 'pct_sot']\n",
      "\n",
      " team_match_stats -> filas: 6070 columnas: ['id', 'match_id', 'season_id', 'team_id', 'team_name', 'home_away', 'ttl_gls', 'ttl_xg', 'ttl_sh', 'ttl_sot']\n",
      "\n",
      " matches_registered -> filas: 3038 columnas: ['match_id', 'season_id', 'matchday', 'home_team', 'home_team_id', 'home_team_score', 'away_team', 'away_team_id', 'away_team_score', 'date_game']\n",
      "\n",
      "Nulos por tabla:\n",
      "team_season_stats:\n",
      " id                    0\n",
      "season_id             0\n",
      "team_id               0\n",
      "team_name             0\n",
      "matches_played        0\n",
      "ttl_gls               0\n",
      "ttl_xg                0\n",
      "ttl_sh                0\n",
      "ttl_sot               0\n",
      "pct_sot               0\n",
      "gls_per_sot           0\n",
      "ttl_gls_xg_diff       0\n",
      "ttl_gls_ag            0\n",
      "ttl_saves             0\n",
      "clean_sheets          0\n",
      "avg_poss              0\n",
      "ttl_pass_prog         0\n",
      "ttl_key_passes        0\n",
      "ttl_cross_opp_box     0\n",
      "ttl_take_on_suc       0\n",
      "ttl_carries           0\n",
      "avg_age               0\n",
      "ttl_yellow_cards      0\n",
      "ttl_red_cards        20\n",
      "ttl_offside           0\n",
      "dtype: int64\n",
      "\n",
      "team_match_stats:\n",
      " id                   0\n",
      "match_id             0\n",
      "season_id            0\n",
      "team_id              0\n",
      "team_name            0\n",
      "home_away            0\n",
      "ttl_gls              0\n",
      "ttl_xg               0\n",
      "ttl_sh               0\n",
      "ttl_sot              0\n",
      "pct_sot              0\n",
      "ttl_gls_ag           0\n",
      "ttl_saves            0\n",
      "clean_sheets         0\n",
      "avg_poss             0\n",
      "ttl_pass_prog        0\n",
      "ttl_key_passes       0\n",
      "ttl_cross_opp_box    0\n",
      "ttl_take_on_suc      0\n",
      "ttl_carries          0\n",
      "ttl_yellow_cards     0\n",
      "ttl_red_cards        0\n",
      "dtype: int64\n",
      "\n",
      "matches_registered:\n",
      " match_id           0\n",
      "season_id          0\n",
      "matchday           0\n",
      "home_team          0\n",
      "home_team_id       0\n",
      "home_team_score    0\n",
      "away_team          0\n",
      "away_team_id       0\n",
      "away_team_score    0\n",
      "date_game          0\n",
      "dtype: int64\n"
     ]
    }
   ],
   "source": [
    "# Revisión inicial y resumen de columnas\n",
    "for name, df in [('team_season_stats', df_season), ('team_match_stats', df_match), ('matches_registered', df_matches_reg)]:\n",
    "    print('\\n', name, '-> filas:', len(df), 'columnas:', list(df.columns)[:10])\n",
    "\n",
    "\n",
    "print('\\nNulos por tabla:')\n",
    "print('team_season_stats:\\n', df_season.isnull().sum())\n",
    "print('\\nteam_match_stats:\\n', df_match.isnull().sum())\n",
    "print('\\nmatches_registered:\\n', df_matches_reg.isnull().sum())"
   ]
  },
  {
   "cell_type": "markdown",
   "id": "59496616",
   "metadata": {},
   "source": [
    "# Paso 2. Limpieza inicial"
   ]
  },
  {
   "cell_type": "code",
   "execution_count": 29,
   "id": "7a6c53f7",
   "metadata": {},
   "outputs": [],
   "source": [
    "# Cargar tablas principales\n",
    "\n",
    "team_stats = pd.read_sql('SELECT * FROM team_season_stats;', engine)\n",
    "matches = pd.read_sql('SELECT * FROM matches_registered;', engine)\n",
    "teams = pd.read_sql('SELECT * FROM team_meta;', engine)\n",
    "league = pd.read_sql('SELECT * FROM data_league;', engine)"
   ]
  },
  {
   "cell_type": "code",
   "execution_count": 30,
   "id": "d41a7eee",
   "metadata": {},
   "outputs": [
    {
     "name": "stdout",
     "output_type": "stream",
     "text": [
      "Shape inicial team_stats: (160, 78)\n",
      "Shape inicial matches: (3038, 11)\n"
     ]
    }
   ],
   "source": [
    "# Limpieza Inicial\n",
    "\n",
    "print(\"Shape inicial team_stats:\", team_stats.shape)\n",
    "print(\"Shape inicial matches:\", matches.shape)"
   ]
  },
  {
   "cell_type": "code",
   "execution_count": 31,
   "id": "66d6e23d",
   "metadata": {},
   "outputs": [],
   "source": [
    "# 1. Eliminar duplicados\n",
    "\n",
    "total_dups_team_stats = team_stats.duplicated(subset=['season_id', 'team_id']).sum()\n",
    "team_stats = team_stats.drop_duplicates(subset=['season_id', 'team_id'])"
   ]
  },
  {
   "cell_type": "code",
   "execution_count": 32,
   "id": "62ee4d93",
   "metadata": {},
   "outputs": [],
   "source": [
    "# 2. Revisar valores nulos\n",
    "\n",
    "nulls_team_stats = team_stats.isnull().sum().sort_values(ascending=False)\n",
    "nulls_matches = matches.isnull().sum().sort_values(ascending=False)"
   ]
  },
  {
   "cell_type": "code",
   "execution_count": 33,
   "id": "7ebc62f6",
   "metadata": {},
   "outputs": [
    {
     "name": "stdout",
     "output_type": "stream",
     "text": [
      "id                   int64\n",
      "season_id           object\n",
      "team_id             object\n",
      "team_name           object\n",
      "matches_played       int64\n",
      "ttl_gls              int64\n",
      "ttl_ast              int64\n",
      "ttl_non_pen_gls      int64\n",
      "ttl_xg             float64\n",
      "ttl_xag            float64\n",
      "dtype: object\n"
     ]
    }
   ],
   "source": [
    "# 3. Validar tipos de datos\n",
    "print(team_stats.dtypes.head(10))"
   ]
  },
  {
   "cell_type": "code",
   "execution_count": 34,
   "id": "09b9a519",
   "metadata": {},
   "outputs": [
    {
     "name": "stdout",
     "output_type": "stream",
     "text": [
      "Equipos sin metadatos: 0\n"
     ]
    }
   ],
   "source": [
    "# 4. Verificar consistencia de IDs\n",
    "missing_teams = team_stats[~team_stats['team_id'].isin(teams['team_id'])]\n",
    "print(f\"Equipos sin metadatos: {missing_teams.shape[0]}\")"
   ]
  },
  {
   "cell_type": "code",
   "execution_count": 35,
   "id": "a0877126",
   "metadata": {},
   "outputs": [],
   "source": [
    "# 5. Rellenar o eliminar datos faltantes numéricos\n",
    "numeric_cols = team_stats.select_dtypes(include=['float64','int64']).columns\n",
    "team_stats[numeric_cols] = team_stats[numeric_cols].fillna(0)"
   ]
  },
  {
   "cell_type": "code",
   "execution_count": 36,
   "id": "5a46e46b",
   "metadata": {},
   "outputs": [
    {
     "ename": "OSError",
     "evalue": "Cannot save file into a non-existent directory: 'eda_outputs'",
     "output_type": "error",
     "traceback": [
      "\u001b[1;31m---------------------------------------------------------------------------\u001b[0m",
      "\u001b[1;31mOSError\u001b[0m                                   Traceback (most recent call last)",
      "Cell \u001b[1;32mIn[36], line 3\u001b[0m\n\u001b[0;32m      1\u001b[0m \u001b[38;5;66;03m# 6. Guardar dataframe limpio\u001b[39;00m\n\u001b[0;32m      2\u001b[0m table_cleaned_path \u001b[38;5;241m=\u001b[39m \u001b[38;5;124m'\u001b[39m\u001b[38;5;124meda_outputs/team_season_stats_cleaned.csv\u001b[39m\u001b[38;5;124m'\u001b[39m\n\u001b[1;32m----> 3\u001b[0m \u001b[43mteam_stats\u001b[49m\u001b[38;5;241;43m.\u001b[39;49m\u001b[43mto_csv\u001b[49m\u001b[43m(\u001b[49m\u001b[43mtable_cleaned_path\u001b[49m\u001b[43m,\u001b[49m\u001b[43m \u001b[49m\u001b[43mindex\u001b[49m\u001b[38;5;241;43m=\u001b[39;49m\u001b[38;5;28;43;01mFalse\u001b[39;49;00m\u001b[43m)\u001b[49m\n\u001b[0;32m      4\u001b[0m \u001b[38;5;28mprint\u001b[39m(\u001b[38;5;124mf\u001b[39m\u001b[38;5;124m\"\u001b[39m\u001b[38;5;130;01m\\n\u001b[39;00m\u001b[38;5;124mDatos limpios guardados en: \u001b[39m\u001b[38;5;132;01m{\u001b[39;00mtable_cleaned_path\u001b[38;5;132;01m}\u001b[39;00m\u001b[38;5;124m\"\u001b[39m)\n",
      "File \u001b[1;32m~\\AppData\\Roaming\\Python\\Python310\\site-packages\\pandas\\util\\_decorators.py:333\u001b[0m, in \u001b[0;36mdeprecate_nonkeyword_arguments.<locals>.decorate.<locals>.wrapper\u001b[1;34m(*args, **kwargs)\u001b[0m\n\u001b[0;32m    327\u001b[0m \u001b[38;5;28;01mif\u001b[39;00m \u001b[38;5;28mlen\u001b[39m(args) \u001b[38;5;241m>\u001b[39m num_allow_args:\n\u001b[0;32m    328\u001b[0m     warnings\u001b[38;5;241m.\u001b[39mwarn(\n\u001b[0;32m    329\u001b[0m         msg\u001b[38;5;241m.\u001b[39mformat(arguments\u001b[38;5;241m=\u001b[39m_format_argument_list(allow_args)),\n\u001b[0;32m    330\u001b[0m         \u001b[38;5;167;01mFutureWarning\u001b[39;00m,\n\u001b[0;32m    331\u001b[0m         stacklevel\u001b[38;5;241m=\u001b[39mfind_stack_level(),\n\u001b[0;32m    332\u001b[0m     )\n\u001b[1;32m--> 333\u001b[0m \u001b[38;5;28;01mreturn\u001b[39;00m func(\u001b[38;5;241m*\u001b[39margs, \u001b[38;5;241m*\u001b[39m\u001b[38;5;241m*\u001b[39mkwargs)\n",
      "File \u001b[1;32m~\\AppData\\Roaming\\Python\\Python310\\site-packages\\pandas\\core\\generic.py:3986\u001b[0m, in \u001b[0;36mNDFrame.to_csv\u001b[1;34m(self, path_or_buf, sep, na_rep, float_format, columns, header, index, index_label, mode, encoding, compression, quoting, quotechar, lineterminator, chunksize, date_format, doublequote, escapechar, decimal, errors, storage_options)\u001b[0m\n\u001b[0;32m   3975\u001b[0m df \u001b[38;5;241m=\u001b[39m \u001b[38;5;28mself\u001b[39m \u001b[38;5;28;01mif\u001b[39;00m \u001b[38;5;28misinstance\u001b[39m(\u001b[38;5;28mself\u001b[39m, ABCDataFrame) \u001b[38;5;28;01melse\u001b[39;00m \u001b[38;5;28mself\u001b[39m\u001b[38;5;241m.\u001b[39mto_frame()\n\u001b[0;32m   3977\u001b[0m formatter \u001b[38;5;241m=\u001b[39m DataFrameFormatter(\n\u001b[0;32m   3978\u001b[0m     frame\u001b[38;5;241m=\u001b[39mdf,\n\u001b[0;32m   3979\u001b[0m     header\u001b[38;5;241m=\u001b[39mheader,\n\u001b[1;32m   (...)\u001b[0m\n\u001b[0;32m   3983\u001b[0m     decimal\u001b[38;5;241m=\u001b[39mdecimal,\n\u001b[0;32m   3984\u001b[0m )\n\u001b[1;32m-> 3986\u001b[0m \u001b[38;5;28;01mreturn\u001b[39;00m \u001b[43mDataFrameRenderer\u001b[49m\u001b[43m(\u001b[49m\u001b[43mformatter\u001b[49m\u001b[43m)\u001b[49m\u001b[38;5;241;43m.\u001b[39;49m\u001b[43mto_csv\u001b[49m\u001b[43m(\u001b[49m\n\u001b[0;32m   3987\u001b[0m \u001b[43m    \u001b[49m\u001b[43mpath_or_buf\u001b[49m\u001b[43m,\u001b[49m\n\u001b[0;32m   3988\u001b[0m \u001b[43m    \u001b[49m\u001b[43mlineterminator\u001b[49m\u001b[38;5;241;43m=\u001b[39;49m\u001b[43mlineterminator\u001b[49m\u001b[43m,\u001b[49m\n\u001b[0;32m   3989\u001b[0m \u001b[43m    \u001b[49m\u001b[43msep\u001b[49m\u001b[38;5;241;43m=\u001b[39;49m\u001b[43msep\u001b[49m\u001b[43m,\u001b[49m\n\u001b[0;32m   3990\u001b[0m \u001b[43m    \u001b[49m\u001b[43mencoding\u001b[49m\u001b[38;5;241;43m=\u001b[39;49m\u001b[43mencoding\u001b[49m\u001b[43m,\u001b[49m\n\u001b[0;32m   3991\u001b[0m \u001b[43m    \u001b[49m\u001b[43merrors\u001b[49m\u001b[38;5;241;43m=\u001b[39;49m\u001b[43merrors\u001b[49m\u001b[43m,\u001b[49m\n\u001b[0;32m   3992\u001b[0m \u001b[43m    \u001b[49m\u001b[43mcompression\u001b[49m\u001b[38;5;241;43m=\u001b[39;49m\u001b[43mcompression\u001b[49m\u001b[43m,\u001b[49m\n\u001b[0;32m   3993\u001b[0m \u001b[43m    \u001b[49m\u001b[43mquoting\u001b[49m\u001b[38;5;241;43m=\u001b[39;49m\u001b[43mquoting\u001b[49m\u001b[43m,\u001b[49m\n\u001b[0;32m   3994\u001b[0m \u001b[43m    \u001b[49m\u001b[43mcolumns\u001b[49m\u001b[38;5;241;43m=\u001b[39;49m\u001b[43mcolumns\u001b[49m\u001b[43m,\u001b[49m\n\u001b[0;32m   3995\u001b[0m \u001b[43m    \u001b[49m\u001b[43mindex_label\u001b[49m\u001b[38;5;241;43m=\u001b[39;49m\u001b[43mindex_label\u001b[49m\u001b[43m,\u001b[49m\n\u001b[0;32m   3996\u001b[0m \u001b[43m    \u001b[49m\u001b[43mmode\u001b[49m\u001b[38;5;241;43m=\u001b[39;49m\u001b[43mmode\u001b[49m\u001b[43m,\u001b[49m\n\u001b[0;32m   3997\u001b[0m \u001b[43m    \u001b[49m\u001b[43mchunksize\u001b[49m\u001b[38;5;241;43m=\u001b[39;49m\u001b[43mchunksize\u001b[49m\u001b[43m,\u001b[49m\n\u001b[0;32m   3998\u001b[0m \u001b[43m    \u001b[49m\u001b[43mquotechar\u001b[49m\u001b[38;5;241;43m=\u001b[39;49m\u001b[43mquotechar\u001b[49m\u001b[43m,\u001b[49m\n\u001b[0;32m   3999\u001b[0m \u001b[43m    \u001b[49m\u001b[43mdate_format\u001b[49m\u001b[38;5;241;43m=\u001b[39;49m\u001b[43mdate_format\u001b[49m\u001b[43m,\u001b[49m\n\u001b[0;32m   4000\u001b[0m \u001b[43m    \u001b[49m\u001b[43mdoublequote\u001b[49m\u001b[38;5;241;43m=\u001b[39;49m\u001b[43mdoublequote\u001b[49m\u001b[43m,\u001b[49m\n\u001b[0;32m   4001\u001b[0m \u001b[43m    \u001b[49m\u001b[43mescapechar\u001b[49m\u001b[38;5;241;43m=\u001b[39;49m\u001b[43mescapechar\u001b[49m\u001b[43m,\u001b[49m\n\u001b[0;32m   4002\u001b[0m \u001b[43m    \u001b[49m\u001b[43mstorage_options\u001b[49m\u001b[38;5;241;43m=\u001b[39;49m\u001b[43mstorage_options\u001b[49m\u001b[43m,\u001b[49m\n\u001b[0;32m   4003\u001b[0m \u001b[43m\u001b[49m\u001b[43m)\u001b[49m\n",
      "File \u001b[1;32m~\\AppData\\Roaming\\Python\\Python310\\site-packages\\pandas\\io\\formats\\format.py:1014\u001b[0m, in \u001b[0;36mDataFrameRenderer.to_csv\u001b[1;34m(self, path_or_buf, encoding, sep, columns, index_label, mode, compression, quoting, quotechar, lineterminator, chunksize, date_format, doublequote, escapechar, errors, storage_options)\u001b[0m\n\u001b[0;32m    993\u001b[0m     created_buffer \u001b[38;5;241m=\u001b[39m \u001b[38;5;28;01mFalse\u001b[39;00m\n\u001b[0;32m    995\u001b[0m csv_formatter \u001b[38;5;241m=\u001b[39m CSVFormatter(\n\u001b[0;32m    996\u001b[0m     path_or_buf\u001b[38;5;241m=\u001b[39mpath_or_buf,\n\u001b[0;32m    997\u001b[0m     lineterminator\u001b[38;5;241m=\u001b[39mlineterminator,\n\u001b[1;32m   (...)\u001b[0m\n\u001b[0;32m   1012\u001b[0m     formatter\u001b[38;5;241m=\u001b[39m\u001b[38;5;28mself\u001b[39m\u001b[38;5;241m.\u001b[39mfmt,\n\u001b[0;32m   1013\u001b[0m )\n\u001b[1;32m-> 1014\u001b[0m \u001b[43mcsv_formatter\u001b[49m\u001b[38;5;241;43m.\u001b[39;49m\u001b[43msave\u001b[49m\u001b[43m(\u001b[49m\u001b[43m)\u001b[49m\n\u001b[0;32m   1016\u001b[0m \u001b[38;5;28;01mif\u001b[39;00m created_buffer:\n\u001b[0;32m   1017\u001b[0m     \u001b[38;5;28;01massert\u001b[39;00m \u001b[38;5;28misinstance\u001b[39m(path_or_buf, StringIO)\n",
      "File \u001b[1;32m~\\AppData\\Roaming\\Python\\Python310\\site-packages\\pandas\\io\\formats\\csvs.py:251\u001b[0m, in \u001b[0;36mCSVFormatter.save\u001b[1;34m(self)\u001b[0m\n\u001b[0;32m    247\u001b[0m \u001b[38;5;250m\u001b[39m\u001b[38;5;124;03m\"\"\"\u001b[39;00m\n\u001b[0;32m    248\u001b[0m \u001b[38;5;124;03mCreate the writer & save.\u001b[39;00m\n\u001b[0;32m    249\u001b[0m \u001b[38;5;124;03m\"\"\"\u001b[39;00m\n\u001b[0;32m    250\u001b[0m \u001b[38;5;66;03m# apply compression and byte/text conversion\u001b[39;00m\n\u001b[1;32m--> 251\u001b[0m \u001b[38;5;28;01mwith\u001b[39;00m \u001b[43mget_handle\u001b[49m\u001b[43m(\u001b[49m\n\u001b[0;32m    252\u001b[0m \u001b[43m    \u001b[49m\u001b[38;5;28;43mself\u001b[39;49m\u001b[38;5;241;43m.\u001b[39;49m\u001b[43mfilepath_or_buffer\u001b[49m\u001b[43m,\u001b[49m\n\u001b[0;32m    253\u001b[0m \u001b[43m    \u001b[49m\u001b[38;5;28;43mself\u001b[39;49m\u001b[38;5;241;43m.\u001b[39;49m\u001b[43mmode\u001b[49m\u001b[43m,\u001b[49m\n\u001b[0;32m    254\u001b[0m \u001b[43m    \u001b[49m\u001b[43mencoding\u001b[49m\u001b[38;5;241;43m=\u001b[39;49m\u001b[38;5;28;43mself\u001b[39;49m\u001b[38;5;241;43m.\u001b[39;49m\u001b[43mencoding\u001b[49m\u001b[43m,\u001b[49m\n\u001b[0;32m    255\u001b[0m \u001b[43m    \u001b[49m\u001b[43merrors\u001b[49m\u001b[38;5;241;43m=\u001b[39;49m\u001b[38;5;28;43mself\u001b[39;49m\u001b[38;5;241;43m.\u001b[39;49m\u001b[43merrors\u001b[49m\u001b[43m,\u001b[49m\n\u001b[0;32m    256\u001b[0m \u001b[43m    \u001b[49m\u001b[43mcompression\u001b[49m\u001b[38;5;241;43m=\u001b[39;49m\u001b[38;5;28;43mself\u001b[39;49m\u001b[38;5;241;43m.\u001b[39;49m\u001b[43mcompression\u001b[49m\u001b[43m,\u001b[49m\n\u001b[0;32m    257\u001b[0m \u001b[43m    \u001b[49m\u001b[43mstorage_options\u001b[49m\u001b[38;5;241;43m=\u001b[39;49m\u001b[38;5;28;43mself\u001b[39;49m\u001b[38;5;241;43m.\u001b[39;49m\u001b[43mstorage_options\u001b[49m\u001b[43m,\u001b[49m\n\u001b[0;32m    258\u001b[0m \u001b[43m\u001b[49m\u001b[43m)\u001b[49m \u001b[38;5;28;01mas\u001b[39;00m handles:\n\u001b[0;32m    259\u001b[0m     \u001b[38;5;66;03m# Note: self.encoding is irrelevant here\u001b[39;00m\n\u001b[0;32m    260\u001b[0m     \u001b[38;5;28mself\u001b[39m\u001b[38;5;241m.\u001b[39mwriter \u001b[38;5;241m=\u001b[39m csvlib\u001b[38;5;241m.\u001b[39mwriter(\n\u001b[0;32m    261\u001b[0m         handles\u001b[38;5;241m.\u001b[39mhandle,\n\u001b[0;32m    262\u001b[0m         lineterminator\u001b[38;5;241m=\u001b[39m\u001b[38;5;28mself\u001b[39m\u001b[38;5;241m.\u001b[39mlineterminator,\n\u001b[1;32m   (...)\u001b[0m\n\u001b[0;32m    267\u001b[0m         quotechar\u001b[38;5;241m=\u001b[39m\u001b[38;5;28mself\u001b[39m\u001b[38;5;241m.\u001b[39mquotechar,\n\u001b[0;32m    268\u001b[0m     )\n\u001b[0;32m    270\u001b[0m     \u001b[38;5;28mself\u001b[39m\u001b[38;5;241m.\u001b[39m_save()\n",
      "File \u001b[1;32m~\\AppData\\Roaming\\Python\\Python310\\site-packages\\pandas\\io\\common.py:749\u001b[0m, in \u001b[0;36mget_handle\u001b[1;34m(path_or_buf, mode, encoding, compression, memory_map, is_text, errors, storage_options)\u001b[0m\n\u001b[0;32m    747\u001b[0m \u001b[38;5;66;03m# Only for write methods\u001b[39;00m\n\u001b[0;32m    748\u001b[0m \u001b[38;5;28;01mif\u001b[39;00m \u001b[38;5;124m\"\u001b[39m\u001b[38;5;124mr\u001b[39m\u001b[38;5;124m\"\u001b[39m \u001b[38;5;129;01mnot\u001b[39;00m \u001b[38;5;129;01min\u001b[39;00m mode \u001b[38;5;129;01mand\u001b[39;00m is_path:\n\u001b[1;32m--> 749\u001b[0m     \u001b[43mcheck_parent_directory\u001b[49m\u001b[43m(\u001b[49m\u001b[38;5;28;43mstr\u001b[39;49m\u001b[43m(\u001b[49m\u001b[43mhandle\u001b[49m\u001b[43m)\u001b[49m\u001b[43m)\u001b[49m\n\u001b[0;32m    751\u001b[0m \u001b[38;5;28;01mif\u001b[39;00m compression:\n\u001b[0;32m    752\u001b[0m     \u001b[38;5;28;01mif\u001b[39;00m compression \u001b[38;5;241m!=\u001b[39m \u001b[38;5;124m\"\u001b[39m\u001b[38;5;124mzstd\u001b[39m\u001b[38;5;124m\"\u001b[39m:\n\u001b[0;32m    753\u001b[0m         \u001b[38;5;66;03m# compression libraries do not like an explicit text-mode\u001b[39;00m\n",
      "File \u001b[1;32m~\\AppData\\Roaming\\Python\\Python310\\site-packages\\pandas\\io\\common.py:616\u001b[0m, in \u001b[0;36mcheck_parent_directory\u001b[1;34m(path)\u001b[0m\n\u001b[0;32m    614\u001b[0m parent \u001b[38;5;241m=\u001b[39m Path(path)\u001b[38;5;241m.\u001b[39mparent\n\u001b[0;32m    615\u001b[0m \u001b[38;5;28;01mif\u001b[39;00m \u001b[38;5;129;01mnot\u001b[39;00m parent\u001b[38;5;241m.\u001b[39mis_dir():\n\u001b[1;32m--> 616\u001b[0m     \u001b[38;5;28;01mraise\u001b[39;00m \u001b[38;5;167;01mOSError\u001b[39;00m(\u001b[38;5;124mrf\u001b[39m\u001b[38;5;124m\"\u001b[39m\u001b[38;5;124mCannot save file into a non-existent directory: \u001b[39m\u001b[38;5;124m'\u001b[39m\u001b[38;5;132;01m{\u001b[39;00mparent\u001b[38;5;132;01m}\u001b[39;00m\u001b[38;5;124m'\u001b[39m\u001b[38;5;124m\"\u001b[39m)\n",
      "\u001b[1;31mOSError\u001b[0m: Cannot save file into a non-existent directory: 'eda_outputs'"
     ]
    }
   ],
   "source": [
    "# 6. Guardar dataframe limpio\n",
    "table_cleaned_path = 'eda_outputs/team_season_stats_cleaned.csv'\n",
    "team_stats.to_csv(table_cleaned_path, index=False)\n",
    "print(f\"\\nDatos limpios guardados en: {table_cleaned_path}\")"
   ]
  },
  {
   "cell_type": "markdown",
   "id": "1dda8105",
   "metadata": {},
   "source": [
    "# Paso 3. Estadisticas descriptivas"
   ]
  },
  {
   "cell_type": "code",
   "execution_count": null,
   "id": "881b4a62",
   "metadata": {},
   "outputs": [],
   "source": []
  },
  {
   "cell_type": "markdown",
   "id": "9c513100",
   "metadata": {},
   "source": [
    "# Paso 4. Correlaciones"
   ]
  },
  {
   "cell_type": "code",
   "execution_count": null,
   "id": "06dbe183",
   "metadata": {},
   "outputs": [],
   "source": []
  },
  {
   "cell_type": "markdown",
   "id": "8f11a9c0",
   "metadata": {},
   "source": [
    "# Paso 5. Comparativas"
   ]
  },
  {
   "cell_type": "code",
   "execution_count": null,
   "id": "2c0409ef",
   "metadata": {},
   "outputs": [],
   "source": []
  },
  {
   "cell_type": "markdown",
   "id": "0353cd5b",
   "metadata": {},
   "source": [
    "# Paso 6. Outliers y consistencias "
   ]
  },
  {
   "cell_type": "code",
   "execution_count": null,
   "id": "4589db03",
   "metadata": {},
   "outputs": [],
   "source": []
  }
 ],
 "metadata": {
  "kernelspec": {
   "display_name": "Python 3",
   "language": "python",
   "name": "python3"
  },
  "language_info": {
   "codemirror_mode": {
    "name": "ipython",
    "version": 3
   },
   "file_extension": ".py",
   "mimetype": "text/x-python",
   "name": "python",
   "nbconvert_exporter": "python",
   "pygments_lexer": "ipython3",
   "version": "3.10.11"
  }
 },
 "nbformat": 4,
 "nbformat_minor": 5
}
